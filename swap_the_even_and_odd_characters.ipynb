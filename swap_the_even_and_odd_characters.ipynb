{
  "nbformat": 4,
  "nbformat_minor": 0,
  "metadata": {
    "colab": {
      "name": "swap_the_even_and_odd_characters.ipynb",
      "provenance": [],
      "collapsed_sections": [],
      "authorship_tag": "ABX9TyPhwzHsdziitqXOM3mXJ/gA",
      "include_colab_link": true
    },
    "kernelspec": {
      "name": "python3",
      "display_name": "Python 3"
    },
    "language_info": {
      "name": "python"
    }
  },
  "cells": [
    {
      "cell_type": "markdown",
      "metadata": {
        "id": "view-in-github",
        "colab_type": "text"
      },
      "source": [
        "<a href=\"https://colab.research.google.com/github/salonii1030/Python_String/blob/main/swap_the_even_and_odd_characters.ipynb\" target=\"_parent\"><img src=\"https://colab.research.google.com/assets/colab-badge.svg\" alt=\"Open In Colab\"/></a>"
      ]
    },
    {
      "cell_type": "code",
      "execution_count": null,
      "metadata": {
        "id": "bFYy46kP03nc"
      },
      "outputs": [],
      "source": [
        "# (Assume the index starts from 0)\n",
        "S = input()\n",
        "op = ''\n",
        "i = 0\n",
        "while i < len(S):\n",
        "        if i + 1 < len(S):\n",
        "                op = op + S[i + 1]\n",
        "                op = op + S[i]\n",
        "        i = i + 2\n",
        "print(op)"
      ]
    }
  ]
}