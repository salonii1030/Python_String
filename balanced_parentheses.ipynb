{
  "nbformat": 4,
  "nbformat_minor": 0,
  "metadata": {
    "colab": {
      "name": "balanced_parentheses.ipynb",
      "provenance": [],
      "collapsed_sections": [],
      "authorship_tag": "ABX9TyOXeoDPEw07zDueqAfDeXDV",
      "include_colab_link": true
    },
    "kernelspec": {
      "name": "python3",
      "display_name": "Python 3"
    },
    "language_info": {
      "name": "python"
    }
  },
  "cells": [
    {
      "cell_type": "markdown",
      "metadata": {
        "id": "view-in-github",
        "colab_type": "text"
      },
      "source": [
        "<a href=\"https://colab.research.google.com/github/salonii1030/Python_String/blob/main/balanced_parentheses.ipynb\" target=\"_parent\"><img src=\"https://colab.research.google.com/assets/colab-badge.svg\" alt=\"Open In Colab\"/></a>"
      ]
    },
    {
      "cell_type": "code",
      "execution_count": null,
      "metadata": {
        "id": "-L8Ki-76umnt"
      },
      "outputs": [],
      "source": [
        "s = input()\n",
        "while(len(s)!=0):\n",
        "      s=s.replace('()','')\n",
        "      s=s.replace('[]','')\n",
        "      s=s.replace('{}','')\n",
        "if(len(s)==0):\n",
        "  print(\"yes\")\n",
        "elif(len(s)>=1):\n",
        "  print(\"no\")"
      ]
    }
  ]
}