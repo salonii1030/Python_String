{
  "nbformat": 4,
  "nbformat_minor": 0,
  "metadata": {
    "colab": {
      "name": "changing_the_middle_elements_of_string.ipynb",
      "provenance": [],
      "collapsed_sections": [],
      "authorship_tag": "ABX9TyNb78UbFFWGQR6TXWXQRR0H",
      "include_colab_link": true
    },
    "kernelspec": {
      "name": "python3",
      "display_name": "Python 3"
    },
    "language_info": {
      "name": "python"
    }
  },
  "cells": [
    {
      "cell_type": "markdown",
      "metadata": {
        "id": "view-in-github",
        "colab_type": "text"
      },
      "source": [
        "<a href=\"https://colab.research.google.com/github/salonii1030/Python_String/blob/main/changing_the_middle_elements_of_string.ipynb\" target=\"_parent\"><img src=\"https://colab.research.google.com/assets/colab-badge.svg\" alt=\"Open In Colab\"/></a>"
      ]
    },
    {
      "cell_type": "code",
      "execution_count": null,
      "metadata": {
        "id": "I2nC0ilvzBX9"
      },
      "outputs": [],
      "source": [
        "# changing the middle element to * (if the length of the string is even, change the 2 middle elements to *)\n",
        "S = input().strip()\n",
        "d = len(S)//2\n",
        "print(S[0:d]+\"*\"+S[d+1:])if len(S)%2==1 else print(S[0:d-1]+\"**\"+S[d+1:])"
      ]
    }
  ]
}