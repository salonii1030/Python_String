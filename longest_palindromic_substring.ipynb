{
  "nbformat": 4,
  "nbformat_minor": 0,
  "metadata": {
    "colab": {
      "name": "longest_palindromic_substring.ipynb",
      "provenance": [],
      "collapsed_sections": [],
      "authorship_tag": "ABX9TyP17M6tW5wwYk0q7cUk1bRk",
      "include_colab_link": true
    },
    "kernelspec": {
      "name": "python3",
      "display_name": "Python 3"
    },
    "language_info": {
      "name": "python"
    }
  },
  "cells": [
    {
      "cell_type": "markdown",
      "metadata": {
        "id": "view-in-github",
        "colab_type": "text"
      },
      "source": [
        "<a href=\"https://colab.research.google.com/github/salonii1030/Python_String/blob/main/longest_palindromic_substring.ipynb\" target=\"_parent\"><img src=\"https://colab.research.google.com/assets/colab-badge.svg\" alt=\"Open In Colab\"/></a>"
      ]
    },
    {
      "cell_type": "code",
      "execution_count": null,
      "metadata": {
        "id": "SsebFnH6t9XZ"
      },
      "outputs": [],
      "source": [
        "s = input()\n",
        "N = len(s)\n",
        "\n",
        "if 1 <= N <= 1000:\n",
        "  start=0\n",
        "  maxLength = 1\n",
        "  for i in range(N):\n",
        "      low = i - 1\n",
        "      high = i + 1\n",
        "      while (high < N and s[high] == s[i] ):                              \n",
        "          high=high+1\n",
        "      \n",
        "      while (low >= 0 and s[low] == s[i] ):                \n",
        "          low=low-1\n",
        "      \n",
        "      while (low >= 0 and high < N and s[low] == s[high] ):\n",
        "        low=low-1\n",
        "        high=high+1\n",
        "        \n",
        "    \n",
        "      length = high - low - 1\n",
        "      if (maxLength < length):\n",
        "          maxLength = length\n",
        "          start=low+1\n",
        "          \n",
        "  print (s[start:start + maxLength])"
      ]
    }
  ]
}