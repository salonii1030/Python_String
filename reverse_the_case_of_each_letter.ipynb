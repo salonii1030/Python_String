{
  "nbformat": 4,
  "nbformat_minor": 0,
  "metadata": {
    "colab": {
      "name": "reverse_the_case_of_each_letter.ipynb",
      "provenance": [],
      "collapsed_sections": [],
      "authorship_tag": "ABX9TyOhsn7ldx5SBIKUig1FjWKQ",
      "include_colab_link": true
    },
    "kernelspec": {
      "name": "python3",
      "display_name": "Python 3"
    },
    "language_info": {
      "name": "python"
    }
  },
  "cells": [
    {
      "cell_type": "markdown",
      "metadata": {
        "id": "view-in-github",
        "colab_type": "text"
      },
      "source": [
        "<a href=\"https://colab.research.google.com/github/salonii1030/Python_String/blob/main/reverse_the_case_of_each_letter.ipynb\" target=\"_parent\"><img src=\"https://colab.research.google.com/assets/colab-badge.svg\" alt=\"Open In Colab\"/></a>"
      ]
    },
    {
      "cell_type": "code",
      "execution_count": null,
      "metadata": {
        "id": "-piPFz06WUPT"
      },
      "outputs": [],
      "source": [
        "# Given a string S of length N, reverse the case of each letter.\n",
        "# Input Size : N <= 100\n",
        "# Sample Testcase :\n",
        "# INPUT\n",
        "# HeLlo\n",
        "# OUTPUT\n",
        "# hElLO\n",
        "\n",
        "S = input()\n",
        "new = ''\n",
        "N = len(S)\n",
        "if N<= 100:\n",
        "  for i in S:\n",
        "    if i.isupper():\n",
        "      new += i.lower()\n",
        "    elif i.islower():\n",
        "      new += i.upper()\n",
        "    elif i.isspace():\n",
        "      new += i\n",
        "  print(new)"
      ]
    }
  ]
}