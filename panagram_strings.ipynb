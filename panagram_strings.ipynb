{
  "nbformat": 4,
  "nbformat_minor": 0,
  "metadata": {
    "colab": {
      "name": "panagram_strings.ipynb",
      "provenance": [],
      "collapsed_sections": [],
      "authorship_tag": "ABX9TyMjiAvs5WdnJ9RGuS/aSdMs",
      "include_colab_link": true
    },
    "kernelspec": {
      "name": "python3",
      "display_name": "Python 3"
    },
    "language_info": {
      "name": "python"
    }
  },
  "cells": [
    {
      "cell_type": "markdown",
      "metadata": {
        "id": "view-in-github",
        "colab_type": "text"
      },
      "source": [
        "<a href=\"https://colab.research.google.com/github/salonii1030/Python_String/blob/main/panagram_strings.ipynb\" target=\"_parent\"><img src=\"https://colab.research.google.com/assets/colab-badge.svg\" alt=\"Open In Colab\"/></a>"
      ]
    },
    {
      "cell_type": "code",
      "execution_count": null,
      "metadata": {
        "id": "sC3M1XRIxJxD"
      },
      "outputs": [],
      "source": [
        "s1,s2 = map(str,input().split())\n",
        "p1 = s1[::-1]\n",
        "p2 = s2[::-1]\n",
        "\n",
        "if (s1==p1 and s2==p2) and (sorted(s1)==sorted(s2)):\n",
        "  print(\"1\")\n",
        "else:\n",
        "  print(\"0\")"
      ]
    }
  ]
}