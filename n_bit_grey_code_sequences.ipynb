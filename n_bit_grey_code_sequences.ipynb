{
  "nbformat": 4,
  "nbformat_minor": 0,
  "metadata": {
    "colab": {
      "name": "n-bit_grey_code_sequences.ipynb",
      "provenance": [],
      "authorship_tag": "ABX9TyP4nJHKKPGpIqUshyyrbnAJ",
      "include_colab_link": true
    },
    "kernelspec": {
      "name": "python3",
      "display_name": "Python 3"
    },
    "language_info": {
      "name": "python"
    }
  },
  "cells": [
    {
      "cell_type": "markdown",
      "metadata": {
        "id": "view-in-github",
        "colab_type": "text"
      },
      "source": [
        "<a href=\"https://colab.research.google.com/github/salonii1030/Python_String/blob/main/n_bit_grey_code_sequences.ipynb\" target=\"_parent\"><img src=\"https://colab.research.google.com/assets/colab-badge.svg\" alt=\"Open In Colab\"/></a>"
      ]
    },
    {
      "cell_type": "code",
      "execution_count": null,
      "metadata": {
        "id": "opOGQLAkwdKo"
      },
      "outputs": [],
      "source": [
        "def get_gray_codes(n):\n",
        "    if n == 0:\n",
        "        return ['']\n",
        "    first_half = get_gray_codes(n - 1)\n",
        "    second_half = first_half.copy()\n",
        " \n",
        "    first_half = ['0' + code for code in first_half]\n",
        "    second_half = ['1' + code for code in reversed(second_half)]\n",
        " \n",
        "    return first_half + second_half\n",
        " \n",
        " \n",
        "n = int(input())\n",
        "codes = get_gray_codes(n)\n",
        "print(*codes)"
      ]
    }
  ]
}